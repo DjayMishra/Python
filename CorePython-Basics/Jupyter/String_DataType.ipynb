{
 "cells": [
  {
   "cell_type": "code",
   "execution_count": 1,
   "id": "b6f6972e",
   "metadata": {},
   "outputs": [
    {
     "name": "stdout",
     "output_type": "stream",
     "text": [
      "john\n"
     ]
    }
   ],
   "source": [
    "firstname=\"john\"\n",
    "print(firstname)"
   ]
  },
  {
   "cell_type": "code",
   "execution_count": 21,
   "id": "1b06d44c",
   "metadata": {},
   "outputs": [
    {
     "name": "stdout",
     "output_type": "stream",
     "text": [
      "<class 'str'>\n"
     ]
    }
   ],
   "source": [
    "print(type(firstname))"
   ]
  },
  {
   "cell_type": "code",
   "execution_count": 2,
   "id": "cd2eb756",
   "metadata": {},
   "outputs": [
    {
     "name": "stdout",
     "output_type": "stream",
     "text": [
      "smith\n"
     ]
    }
   ],
   "source": [
    "lastname=\"smith\"\n",
    "print(lastname)"
   ]
  },
  {
   "cell_type": "code",
   "execution_count": 3,
   "id": "ee76da7f",
   "metadata": {},
   "outputs": [
    {
     "name": "stdout",
     "output_type": "stream",
     "text": [
      "johnsmith\n"
     ]
    }
   ],
   "source": [
    "fullname=firstname +  lastname\n",
    "print(fullname)"
   ]
  },
  {
   "cell_type": "code",
   "execution_count": 4,
   "id": "9ba93434",
   "metadata": {},
   "outputs": [
    {
     "name": "stdout",
     "output_type": "stream",
     "text": [
      "john smith\n"
     ]
    }
   ],
   "source": [
    "print(firstname + \" \" + lastname)"
   ]
  },
  {
   "cell_type": "code",
   "execution_count": 5,
   "id": "85e517be",
   "metadata": {},
   "outputs": [
    {
     "name": "stdout",
     "output_type": "stream",
     "text": [
      "john smith\n"
     ]
    }
   ],
   "source": [
    "fullname=firstname+ \" \" + lastname\n",
    "print(fullname)"
   ]
  },
  {
   "cell_type": "code",
   "execution_count": 7,
   "id": "6be42a49",
   "metadata": {},
   "outputs": [
    {
     "name": "stdout",
     "output_type": "stream",
     "text": [
      "John Smith\n"
     ]
    }
   ],
   "source": [
    "print(fullname.title())"
   ]
  },
  {
   "cell_type": "code",
   "execution_count": 8,
   "id": "c10ffdbe",
   "metadata": {},
   "outputs": [
    {
     "name": "stdout",
     "output_type": "stream",
     "text": [
      "John Smith\n"
     ]
    }
   ],
   "source": [
    "print(f\"{fullname.title()}\")"
   ]
  },
  {
   "cell_type": "code",
   "execution_count": 9,
   "id": "c9aa25f8",
   "metadata": {},
   "outputs": [
    {
     "name": "stdout",
     "output_type": "stream",
     "text": [
      "Hello, John Smith\n"
     ]
    }
   ],
   "source": [
    "print(f\"Hello, {fullname.title()}\")"
   ]
  },
  {
   "cell_type": "code",
   "execution_count": 10,
   "id": "15fb4a7c",
   "metadata": {},
   "outputs": [
    {
     "name": "stdout",
     "output_type": "stream",
     "text": [
      "Hello, JOHN SMITH\n"
     ]
    }
   ],
   "source": [
    "print(f\"Hello, {fullname.upper()}\")"
   ]
  },
  {
   "cell_type": "code",
   "execution_count": 11,
   "id": "8e9eb3b7",
   "metadata": {},
   "outputs": [
    {
     "name": "stdout",
     "output_type": "stream",
     "text": [
      "Hello, john smith\n"
     ]
    }
   ],
   "source": [
    "print(f\"Hello, {fullname.lower()}\")"
   ]
  },
  {
   "cell_type": "code",
   "execution_count": 12,
   "id": "880ec938",
   "metadata": {},
   "outputs": [
    {
     "name": "stdout",
     "output_type": "stream",
     "text": [
      "hello, john smith\n"
     ]
    }
   ],
   "source": [
    "print(f\"Hello, {fullname.lower()}\".lower())"
   ]
  },
  {
   "cell_type": "code",
   "execution_count": 13,
   "id": "53acc32b",
   "metadata": {},
   "outputs": [
    {
     "name": "stdout",
     "output_type": "stream",
     "text": [
      "    hello, john smith       \n"
     ]
    }
   ],
   "source": [
    "print(f\"    Hello, {fullname.lower()}       \".lower())"
   ]
  },
  {
   "cell_type": "code",
   "execution_count": 14,
   "id": "c428eab3",
   "metadata": {},
   "outputs": [
    {
     "name": "stdout",
     "output_type": "stream",
     "text": [
      "    hello, john smith       \n"
     ]
    }
   ],
   "source": [
    "print(f\"    Hello, {fullname.lower()}       \".lower())\n"
   ]
  },
  {
   "cell_type": "code",
   "execution_count": 15,
   "id": "aa0e75c1",
   "metadata": {},
   "outputs": [
    {
     "name": "stdout",
     "output_type": "stream",
     "text": [
      "28\n"
     ]
    }
   ],
   "source": [
    "print(len(f\"    Hello, {fullname.lower()}       \".lower()))"
   ]
  },
  {
   "cell_type": "code",
   "execution_count": 16,
   "id": "17d4a155",
   "metadata": {},
   "outputs": [
    {
     "name": "stdout",
     "output_type": "stream",
     "text": [
      "hello, john smith\n"
     ]
    }
   ],
   "source": [
    "print(f\"Hello, {fullname.lower()}\".lower().strip())"
   ]
  },
  {
   "cell_type": "code",
   "execution_count": 17,
   "id": "822e3e6d",
   "metadata": {},
   "outputs": [
    {
     "name": "stdout",
     "output_type": "stream",
     "text": [
      "17\n"
     ]
    }
   ],
   "source": [
    "print(len(f\"Hello, {fullname.lower()}\".lower().strip()))"
   ]
  },
  {
   "cell_type": "code",
   "execution_count": 18,
   "id": "b02b439f",
   "metadata": {},
   "outputs": [
    {
     "name": "stdout",
     "output_type": "stream",
     "text": [
      "john smith\n"
     ]
    }
   ],
   "source": [
    "print(fullname)"
   ]
  }
 ],
 "metadata": {
  "kernelspec": {
   "display_name": "Python 3 (ipykernel)",
   "language": "python",
   "name": "python3"
  },
  "language_info": {
   "codemirror_mode": {
    "name": "ipython",
    "version": 3
   },
   "file_extension": ".py",
   "mimetype": "text/x-python",
   "name": "python",
   "nbconvert_exporter": "python",
   "pygments_lexer": "ipython3",
   "version": "3.9.13"
  }
 },
 "nbformat": 4,
 "nbformat_minor": 5
}
