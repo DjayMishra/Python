{
 "cells": [
  {
   "cell_type": "code",
   "execution_count": 1,
   "id": "4b332560",
   "metadata": {},
   "outputs": [
    {
     "name": "stdout",
     "output_type": "stream",
     "text": [
      "{'NYC': 45, 'Delhi': 90, 'Miami': '65'}\n"
     ]
    }
   ],
   "source": [
    "temperature ={\"NYC\":45,\"Delhi\":90,\"Miami\":\"65\"}\n",
    "print (temperature)"
   ]
  },
  {
   "cell_type": "code",
   "execution_count": 2,
   "id": "f87c0092",
   "metadata": {},
   "outputs": [
    {
     "name": "stdout",
     "output_type": "stream",
     "text": [
      "NYC\n",
      "Delhi\n",
      "Miami\n"
     ]
    }
   ],
   "source": [
    "for temp in temperature:\n",
    "    print(temp)"
   ]
  },
  {
   "cell_type": "code",
   "execution_count": 3,
   "id": "5b7fdd32",
   "metadata": {},
   "outputs": [
    {
     "ename": "ValueError",
     "evalue": "too many values to unpack (expected 2)",
     "output_type": "error",
     "traceback": [
      "\u001b[1;31m---------------------------------------------------------------------------\u001b[0m",
      "\u001b[1;31mValueError\u001b[0m                                Traceback (most recent call last)",
      "\u001b[1;32m~\\AppData\\Local\\Temp\\ipykernel_11968\\1291130094.py\u001b[0m in \u001b[0;36m<module>\u001b[1;34m\u001b[0m\n\u001b[1;32m----> 1\u001b[1;33m \u001b[1;32mfor\u001b[0m \u001b[0mcity\u001b[0m\u001b[1;33m,\u001b[0m\u001b[0mtemp\u001b[0m \u001b[1;32min\u001b[0m \u001b[0mtemperature\u001b[0m\u001b[1;33m:\u001b[0m\u001b[1;33m\u001b[0m\u001b[1;33m\u001b[0m\u001b[0m\n\u001b[0m\u001b[0;32m      2\u001b[0m     \u001b[0mprint\u001b[0m\u001b[1;33m(\u001b[0m\u001b[1;34mf\"{city}{temp}\"\u001b[0m\u001b[1;33m)\u001b[0m\u001b[1;33m\u001b[0m\u001b[1;33m\u001b[0m\u001b[0m\n",
      "\u001b[1;31mValueError\u001b[0m: too many values to unpack (expected 2)"
     ]
    }
   ],
   "source": [
    "for city,temp in temperature:\n",
    "    print(f\"{city}{temp}\")"
   ]
  },
  {
   "cell_type": "code",
   "execution_count": 4,
   "id": "c588b7ea",
   "metadata": {},
   "outputs": [
    {
     "name": "stdout",
     "output_type": "stream",
     "text": [
      "<built-in method keys of dict object at 0x000002114B085FC0>\n"
     ]
    }
   ],
   "source": [
    "print(temperature.keys)"
   ]
  },
  {
   "cell_type": "code",
   "execution_count": 6,
   "id": "b9b2231b",
   "metadata": {},
   "outputs": [
    {
     "name": "stdout",
     "output_type": "stream",
     "text": [
      "NYC\n",
      "Delhi\n",
      "Miami\n"
     ]
    }
   ],
   "source": [
    "for key in temperature.keys():\n",
    "    print(key)"
   ]
  },
  {
   "cell_type": "code",
   "execution_count": 7,
   "id": "efb38d55",
   "metadata": {},
   "outputs": [
    {
     "name": "stdout",
     "output_type": "stream",
     "text": [
      "('NYC', 45)\n",
      "('Delhi', 90)\n",
      "('Miami', '65')\n"
     ]
    }
   ],
   "source": [
    "for key in temperature.items():\n",
    "    print(key)"
   ]
  },
  {
   "cell_type": "code",
   "execution_count": 9,
   "id": "2e155896",
   "metadata": {},
   "outputs": [
    {
     "name": "stdout",
     "output_type": "stream",
     "text": [
      "NYC-45\n",
      "Delhi-90\n",
      "Miami-65\n"
     ]
    }
   ],
   "source": [
    "for key,value in temperature.items():\n",
    "    print(f\"{key}-{value}\")"
   ]
  },
  {
   "cell_type": "code",
   "execution_count": 11,
   "id": "ccc641b7",
   "metadata": {},
   "outputs": [
    {
     "name": "stdout",
     "output_type": "stream",
     "text": [
      "NYC\n",
      "Delhi\n",
      "Miami\n"
     ]
    }
   ],
   "source": [
    "for key in temperature.keys():\n",
    "    print(f\"{key}\")"
   ]
  },
  {
   "cell_type": "code",
   "execution_count": 13,
   "id": "86b20155",
   "metadata": {},
   "outputs": [
    {
     "name": "stdout",
     "output_type": "stream",
     "text": [
      "45\n",
      "90\n",
      "65\n"
     ]
    }
   ],
   "source": [
    "for value in temperature.values():\n",
    "    print(f\"{value}\")"
   ]
  },
  {
   "cell_type": "code",
   "execution_count": 14,
   "id": "4f10703c",
   "metadata": {},
   "outputs": [
    {
     "data": {
      "text/plain": [
       "45"
      ]
     },
     "execution_count": 14,
     "metadata": {},
     "output_type": "execute_result"
    }
   ],
   "source": [
    "temperature[\"NYC\"]"
   ]
  },
  {
   "cell_type": "code",
   "execution_count": 15,
   "id": "6dff24d3",
   "metadata": {},
   "outputs": [
    {
     "data": {
      "text/plain": [
       "45"
      ]
     },
     "execution_count": 15,
     "metadata": {},
     "output_type": "execute_result"
    }
   ],
   "source": [
    "temperature.get(\"NYC\")"
   ]
  },
  {
   "cell_type": "code",
   "execution_count": 16,
   "id": "0759f803",
   "metadata": {},
   "outputs": [
    {
     "name": "stdout",
     "output_type": "stream",
     "text": [
      "dict_items([('NYC', 45), ('Delhi', 90), ('Miami', '65')])\n"
     ]
    }
   ],
   "source": [
    "print(temperature.items())"
   ]
  },
  {
   "cell_type": "code",
   "execution_count": null,
   "id": "133431d3",
   "metadata": {},
   "outputs": [],
   "source": []
  }
 ],
 "metadata": {
  "kernelspec": {
   "display_name": "Python 3 (ipykernel)",
   "language": "python",
   "name": "python3"
  },
  "language_info": {
   "codemirror_mode": {
    "name": "ipython",
    "version": 3
   },
   "file_extension": ".py",
   "mimetype": "text/x-python",
   "name": "python",
   "nbconvert_exporter": "python",
   "pygments_lexer": "ipython3",
   "version": "3.9.13"
  }
 },
 "nbformat": 4,
 "nbformat_minor": 5
}
