{
 "cells": [
  {
   "cell_type": "code",
   "execution_count": 1,
   "id": "ebdbb95c",
   "metadata": {},
   "outputs": [
    {
     "name": "stdout",
     "output_type": "stream",
     "text": [
      "NYC\n",
      "London\n",
      "Paris\n",
      "Toronto\n"
     ]
    }
   ],
   "source": [
    "cities=['NYC','London','Paris','Toronto']\n",
    "for city in cities:\n",
    "    print(city)"
   ]
  },
  {
   "cell_type": "code",
   "execution_count": 2,
   "id": "f3c2ea64",
   "metadata": {},
   "outputs": [
    {
     "name": "stdout",
     "output_type": "stream",
     "text": [
      "Toronto\n",
      "Paris\n",
      "London\n",
      "NYC\n"
     ]
    }
   ],
   "source": [
    "for city in reversed(cities):\n",
    "    print(city)"
   ]
  },
  {
   "cell_type": "code",
   "execution_count": 3,
   "id": "aa122c7c",
   "metadata": {},
   "outputs": [
    {
     "name": "stdout",
     "output_type": "stream",
     "text": [
      "NYC\n",
      "London\n",
      "Paris\n",
      "Toronto\n"
     ]
    }
   ],
   "source": [
    "for i in range(0,len(cities)):\n",
    "    print(cities[i])"
   ]
  },
  {
   "cell_type": "code",
   "execution_count": 4,
   "id": "d87d7308",
   "metadata": {},
   "outputs": [
    {
     "name": "stdout",
     "output_type": "stream",
     "text": [
      "Toronto\n",
      "Paris\n",
      "London\n",
      "NYC\n"
     ]
    }
   ],
   "source": [
    "for i in reversed(range(0,len(cities))):\n",
    "    print(cities[i])"
   ]
  },
  {
   "cell_type": "code",
   "execution_count": 5,
   "id": "49ed4154",
   "metadata": {},
   "outputs": [
    {
     "name": "stdout",
     "output_type": "stream",
     "text": [
      "['NYC', 'London', 'Paris', 'Toronto']\n"
     ]
    }
   ],
   "source": [
    "# understanding slicing\n",
    "print(cities[:])"
   ]
  },
  {
   "cell_type": "code",
   "execution_count": 6,
   "id": "9f1299ee",
   "metadata": {},
   "outputs": [
    {
     "name": "stdout",
     "output_type": "stream",
     "text": [
      "['NYC', 'London', 'Paris', 'Toronto']\n"
     ]
    }
   ],
   "source": [
    "print(cities[0:])"
   ]
  },
  {
   "cell_type": "code",
   "execution_count": 7,
   "id": "44f7802b",
   "metadata": {},
   "outputs": [
    {
     "name": "stdout",
     "output_type": "stream",
     "text": [
      "['London', 'Paris', 'Toronto']\n"
     ]
    }
   ],
   "source": [
    "print(cities[1:])"
   ]
  },
  {
   "cell_type": "code",
   "execution_count": 8,
   "id": "c31e4309",
   "metadata": {},
   "outputs": [
    {
     "name": "stdout",
     "output_type": "stream",
     "text": [
      "['NYC', 'London', 'Paris', 'Toronto']\n"
     ]
    }
   ],
   "source": [
    "print(cities[0:4])"
   ]
  },
  {
   "cell_type": "code",
   "execution_count": 9,
   "id": "d1317f4d",
   "metadata": {},
   "outputs": [
    {
     "name": "stdout",
     "output_type": "stream",
     "text": [
      "['NYC', 'London', 'Paris', 'Toronto']\n"
     ]
    }
   ],
   "source": [
    "print(cities[0:6])"
   ]
  },
  {
   "cell_type": "code",
   "execution_count": 11,
   "id": "62376f15",
   "metadata": {},
   "outputs": [
    {
     "name": "stdout",
     "output_type": "stream",
     "text": [
      "['NYC', 'London', 'Paris', 'Toronto']\n"
     ]
    }
   ],
   "source": [
    "print(cities[-4:])"
   ]
  },
  {
   "cell_type": "code",
   "execution_count": 18,
   "id": "85e028de",
   "metadata": {},
   "outputs": [
    {
     "name": "stdout",
     "output_type": "stream",
     "text": [
      "['Toronto']\n"
     ]
    }
   ],
   "source": [
    "print(cities[-1:])"
   ]
  },
  {
   "cell_type": "code",
   "execution_count": null,
   "id": "415250c6",
   "metadata": {},
   "outputs": [],
   "source": []
  }
 ],
 "metadata": {
  "kernelspec": {
   "display_name": "Python 3 (ipykernel)",
   "language": "python",
   "name": "python3"
  },
  "language_info": {
   "codemirror_mode": {
    "name": "ipython",
    "version": 3
   },
   "file_extension": ".py",
   "mimetype": "text/x-python",
   "name": "python",
   "nbconvert_exporter": "python",
   "pygments_lexer": "ipython3",
   "version": "3.9.13"
  }
 },
 "nbformat": 4,
 "nbformat_minor": 5
}
