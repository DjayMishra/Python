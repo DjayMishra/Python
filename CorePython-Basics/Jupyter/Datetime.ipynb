{
 "cells": [
  {
   "cell_type": "code",
   "execution_count": 1,
   "id": "fa7f72eb",
   "metadata": {},
   "outputs": [
    {
     "name": "stdout",
     "output_type": "stream",
     "text": [
      "<module 'datetime' from 'C:\\\\Users\\\\dhana\\\\anaconda3\\\\lib\\\\datetime.py'>\n"
     ]
    }
   ],
   "source": [
    "import datetime\n",
    "print(datetime)"
   ]
  },
  {
   "cell_type": "code",
   "execution_count": 2,
   "id": "31cf7963",
   "metadata": {},
   "outputs": [
    {
     "name": "stdout",
     "output_type": "stream",
     "text": [
      "<class 'datetime.datetime'>\n"
     ]
    }
   ],
   "source": [
    "print(datetime.datetime)"
   ]
  },
  {
   "cell_type": "code",
   "execution_count": 3,
   "id": "e2cb48f6",
   "metadata": {},
   "outputs": [
    {
     "name": "stdout",
     "output_type": "stream",
     "text": [
      "2023-01-23 20:10:40.294717\n"
     ]
    }
   ],
   "source": [
    "print(datetime.datetime.now())"
   ]
  },
  {
   "cell_type": "code",
   "execution_count": 5,
   "id": "038ed8c2",
   "metadata": {},
   "outputs": [
    {
     "name": "stdout",
     "output_type": "stream",
     "text": [
      "2023\n"
     ]
    }
   ],
   "source": [
    "print(datetime.datetime.now().year)"
   ]
  },
  {
   "cell_type": "code",
   "execution_count": 6,
   "id": "b6b00538",
   "metadata": {},
   "outputs": [
    {
     "name": "stdout",
     "output_type": "stream",
     "text": [
      "<built-in method date of datetime.datetime object at 0x000001F6EC43A9C0>\n"
     ]
    }
   ],
   "source": [
    "print(datetime.datetime.now().date)"
   ]
  },
  {
   "cell_type": "code",
   "execution_count": 7,
   "id": "a9d591fb",
   "metadata": {},
   "outputs": [
    {
     "name": "stdout",
     "output_type": "stream",
     "text": [
      "23\n"
     ]
    }
   ],
   "source": [
    "print(datetime.datetime.now().day)"
   ]
  },
  {
   "cell_type": "code",
   "execution_count": 8,
   "id": "82f36907",
   "metadata": {},
   "outputs": [
    {
     "name": "stdout",
     "output_type": "stream",
     "text": [
      "1\n"
     ]
    }
   ],
   "source": [
    "print(datetime.datetime.now().month)"
   ]
  },
  {
   "cell_type": "code",
   "execution_count": null,
   "id": "b297c1e9",
   "metadata": {},
   "outputs": [],
   "source": []
  }
 ],
 "metadata": {
  "kernelspec": {
   "display_name": "Python 3 (ipykernel)",
   "language": "python",
   "name": "python3"
  },
  "language_info": {
   "codemirror_mode": {
    "name": "ipython",
    "version": 3
   },
   "file_extension": ".py",
   "mimetype": "text/x-python",
   "name": "python",
   "nbconvert_exporter": "python",
   "pygments_lexer": "ipython3",
   "version": "3.9.13"
  }
 },
 "nbformat": 4,
 "nbformat_minor": 5
}
