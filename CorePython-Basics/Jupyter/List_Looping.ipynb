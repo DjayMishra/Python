{
 "cells": [
  {
   "cell_type": "code",
   "execution_count": 1,
   "id": "68022167",
   "metadata": {},
   "outputs": [
    {
     "name": "stdout",
     "output_type": "stream",
     "text": [
      "NYC\n",
      "London\n",
      "Paris\n",
      "Toronto\n"
     ]
    }
   ],
   "source": [
    "cities=['NYC','London','Paris','Toronto']\n",
    "for city in cities:\n",
    "    print(city)"
   ]
  },
  {
   "cell_type": "code",
   "execution_count": 2,
   "id": "b66a5e59",
   "metadata": {},
   "outputs": [
    {
     "name": "stdout",
     "output_type": "stream",
     "text": [
      "Toronto\n",
      "Paris\n",
      "London\n",
      "NYC\n"
     ]
    }
   ],
   "source": [
    "for city in reversed(cities):\n",
    "    print(city)"
   ]
  },
  {
   "cell_type": "code",
   "execution_count": 3,
   "id": "2de15ff7",
   "metadata": {},
   "outputs": [
    {
     "name": "stdout",
     "output_type": "stream",
     "text": [
      "NYC\n",
      "London\n",
      "Paris\n",
      "Toronto\n"
     ]
    }
   ],
   "source": [
    "for i in range(0,len(cities)):\n",
    "    print(cities[i])"
   ]
  },
  {
   "cell_type": "code",
   "execution_count": 4,
   "id": "206f2d8a",
   "metadata": {},
   "outputs": [
    {
     "name": "stdout",
     "output_type": "stream",
     "text": [
      "Toronto\n",
      "Paris\n",
      "London\n",
      "NYC\n"
     ]
    }
   ],
   "source": [
    "for i in reversed(range(0,len(cities))):\n",
    "    print(cities[i])"
   ]
  },
  {
   "cell_type": "code",
   "execution_count": 5,
   "id": "1c36e0ca",
   "metadata": {},
   "outputs": [
    {
     "name": "stdout",
     "output_type": "stream",
     "text": [
      "['NYC', 'London', 'Paris', 'Toronto']\n"
     ]
    }
   ],
   "source": [
    "# understanding slicing\n",
    "print(cities[:])"
   ]
  },
  {
   "cell_type": "code",
   "execution_count": 6,
   "id": "f6bdcdd5",
   "metadata": {},
   "outputs": [
    {
     "name": "stdout",
     "output_type": "stream",
     "text": [
      "['NYC', 'London', 'Paris', 'Toronto']\n"
     ]
    }
   ],
   "source": [
    "print(cities[0:])"
   ]
  },
  {
   "cell_type": "code",
   "execution_count": 7,
   "id": "0909ca65",
   "metadata": {},
   "outputs": [
    {
     "name": "stdout",
     "output_type": "stream",
     "text": [
      "['London', 'Paris', 'Toronto']\n"
     ]
    }
   ],
   "source": [
    "print(cities[1:])"
   ]
  },
  {
   "cell_type": "code",
   "execution_count": 8,
   "id": "968d9daf",
   "metadata": {},
   "outputs": [
    {
     "name": "stdout",
     "output_type": "stream",
     "text": [
      "['NYC', 'London', 'Paris', 'Toronto']\n"
     ]
    }
   ],
   "source": [
    "print(cities[0:4])"
   ]
  },
  {
   "cell_type": "code",
   "execution_count": 9,
   "id": "94214b58",
   "metadata": {},
   "outputs": [
    {
     "name": "stdout",
     "output_type": "stream",
     "text": [
      "['NYC', 'London', 'Paris', 'Toronto']\n"
     ]
    }
   ],
   "source": [
    "print(cities[0:6])"
   ]
  },
  {
   "cell_type": "code",
   "execution_count": 11,
   "id": "9f00ae1f",
   "metadata": {},
   "outputs": [
    {
     "name": "stdout",
     "output_type": "stream",
     "text": [
      "['NYC', 'London', 'Paris', 'Toronto']\n"
     ]
    }
   ],
   "source": [
    "print(cities[-4:])"
   ]
  },
  {
   "cell_type": "code",
   "execution_count": 18,
   "id": "ca562a01",
   "metadata": {},
   "outputs": [
    {
     "name": "stdout",
     "output_type": "stream",
     "text": [
      "['Toronto']\n"
     ]
    }
   ],
   "source": [
    "print(cities[-1:])"
   ]
  },
  {
   "cell_type": "code",
   "execution_count": 19,
   "id": "6cafd8b0",
   "metadata": {},
   "outputs": [],
   "source": [
    "cities2=cities[:]"
   ]
  },
  {
   "cell_type": "code",
   "execution_count": 20,
   "id": "203e8fa0",
   "metadata": {},
   "outputs": [
    {
     "name": "stdout",
     "output_type": "stream",
     "text": [
      "['NYC', 'London', 'Paris', 'Toronto']\n",
      "['NYC', 'London', 'Paris', 'Toronto']\n"
     ]
    }
   ],
   "source": [
    "print(cities)\n",
    "print(cities2)"
   ]
  },
  {
   "cell_type": "code",
   "execution_count": 21,
   "id": "1ffd44e2",
   "metadata": {},
   "outputs": [
    {
     "name": "stdout",
     "output_type": "stream",
     "text": [
      "['Delhi', 'London', 'Paris', 'Toronto']\n",
      "['NYC', 'London', 'Paris', 'Toronto']\n"
     ]
    }
   ],
   "source": [
    "cities[0]='Delhi'\n",
    "print(cities)\n",
    "print(cities2)"
   ]
  },
  {
   "cell_type": "code",
   "execution_count": null,
   "id": "e9266db6",
   "metadata": {},
   "outputs": [],
   "source": []
  }
 ],
 "metadata": {
  "kernelspec": {
   "display_name": "Python 3 (ipykernel)",
   "language": "python",
   "name": "python3"
  },
  "language_info": {
   "codemirror_mode": {
    "name": "ipython",
    "version": 3
   },
   "file_extension": ".py",
   "mimetype": "text/x-python",
   "name": "python",
   "nbconvert_exporter": "python",
   "pygments_lexer": "ipython3",
   "version": "3.9.13"
  }
 },
 "nbformat": 4,
 "nbformat_minor": 5
}
