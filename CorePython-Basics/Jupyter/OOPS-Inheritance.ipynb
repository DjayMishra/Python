{
 "cells": [
  {
   "cell_type": "code",
   "execution_count": 1,
   "id": "58aa93b1",
   "metadata": {},
   "outputs": [],
   "source": [
    "class Car:\n",
    "    def __init__(self, manufacture, makeyear):\n",
    "        self.make=manufacture\n",
    "        self.year=makeyear\n",
    "\n"
   ]
  },
  {
   "cell_type": "code",
   "execution_count": 2,
   "id": "f490f602",
   "metadata": {},
   "outputs": [
    {
     "name": "stdout",
     "output_type": "stream",
     "text": [
      "<class '__main__.Car'>\n"
     ]
    }
   ],
   "source": [
    "print(Car)"
   ]
  },
  {
   "cell_type": "code",
   "execution_count": 3,
   "id": "a1b0be41",
   "metadata": {},
   "outputs": [
    {
     "ename": "AttributeError",
     "evalue": "type object 'Car' has no attribute 'make'",
     "output_type": "error",
     "traceback": [
      "\u001b[1;31m---------------------------------------------------------------------------\u001b[0m",
      "\u001b[1;31mAttributeError\u001b[0m                            Traceback (most recent call last)",
      "\u001b[1;32m~\\AppData\\Local\\Temp\\ipykernel_7576\\515284737.py\u001b[0m in \u001b[0;36m<module>\u001b[1;34m\u001b[0m\n\u001b[1;32m----> 1\u001b[1;33m \u001b[0mprint\u001b[0m\u001b[1;33m(\u001b[0m\u001b[0mCar\u001b[0m\u001b[1;33m.\u001b[0m\u001b[0mmake\u001b[0m\u001b[1;33m)\u001b[0m\u001b[1;33m\u001b[0m\u001b[1;33m\u001b[0m\u001b[0m\n\u001b[0m",
      "\u001b[1;31mAttributeError\u001b[0m: type object 'Car' has no attribute 'make'"
     ]
    }
   ],
   "source": [
    "print(Car.make)"
   ]
  },
  {
   "cell_type": "code",
   "execution_count": 4,
   "id": "a8c51519",
   "metadata": {},
   "outputs": [],
   "source": [
    "car=Car('Toyota','2023')"
   ]
  },
  {
   "cell_type": "code",
   "execution_count": 5,
   "id": "d55b38f1",
   "metadata": {},
   "outputs": [
    {
     "ename": "AttributeError",
     "evalue": "type object 'Car' has no attribute 'make'",
     "output_type": "error",
     "traceback": [
      "\u001b[1;31m---------------------------------------------------------------------------\u001b[0m",
      "\u001b[1;31mAttributeError\u001b[0m                            Traceback (most recent call last)",
      "\u001b[1;32m~\\AppData\\Local\\Temp\\ipykernel_7576\\515284737.py\u001b[0m in \u001b[0;36m<module>\u001b[1;34m\u001b[0m\n\u001b[1;32m----> 1\u001b[1;33m \u001b[0mprint\u001b[0m\u001b[1;33m(\u001b[0m\u001b[0mCar\u001b[0m\u001b[1;33m.\u001b[0m\u001b[0mmake\u001b[0m\u001b[1;33m)\u001b[0m\u001b[1;33m\u001b[0m\u001b[1;33m\u001b[0m\u001b[0m\n\u001b[0m",
      "\u001b[1;31mAttributeError\u001b[0m: type object 'Car' has no attribute 'make'"
     ]
    }
   ],
   "source": [
    "print(Car.make)"
   ]
  },
  {
   "cell_type": "code",
   "execution_count": 6,
   "id": "379e93fa",
   "metadata": {},
   "outputs": [
    {
     "name": "stdout",
     "output_type": "stream",
     "text": [
      "<__main__.Car object at 0x0000026182684EB0>\n"
     ]
    }
   ],
   "source": [
    "print(car)"
   ]
  },
  {
   "cell_type": "code",
   "execution_count": 7,
   "id": "b09325e8",
   "metadata": {},
   "outputs": [
    {
     "data": {
      "text/plain": [
       "['__class__',\n",
       " '__delattr__',\n",
       " '__dict__',\n",
       " '__dir__',\n",
       " '__doc__',\n",
       " '__eq__',\n",
       " '__format__',\n",
       " '__ge__',\n",
       " '__getattribute__',\n",
       " '__gt__',\n",
       " '__hash__',\n",
       " '__init__',\n",
       " '__init_subclass__',\n",
       " '__le__',\n",
       " '__lt__',\n",
       " '__module__',\n",
       " '__ne__',\n",
       " '__new__',\n",
       " '__reduce__',\n",
       " '__reduce_ex__',\n",
       " '__repr__',\n",
       " '__setattr__',\n",
       " '__sizeof__',\n",
       " '__str__',\n",
       " '__subclasshook__',\n",
       " '__weakref__',\n",
       " 'make',\n",
       " 'year']"
      ]
     },
     "execution_count": 7,
     "metadata": {},
     "output_type": "execute_result"
    }
   ],
   "source": [
    "dir(car)"
   ]
  },
  {
   "cell_type": "code",
   "execution_count": 10,
   "id": "3db4bdaa",
   "metadata": {},
   "outputs": [
    {
     "name": "stdout",
     "output_type": "stream",
     "text": [
      "Lexus made by Toyota in year 2023\n"
     ]
    }
   ],
   "source": [
    "class Car:\n",
    "    def __init__(self, manufacture, makeyear,model):\n",
    "        self.make=manufacture\n",
    "        self.year=makeyear\n",
    "        self.model=model\n",
    "    \n",
    "    def Details(self):\n",
    "        return self.model+ \" made by \"+ self.make+\" in year \"+self.year\n",
    "    \n",
    "car=Car('Toyota','2023','Lexus')\n",
    "print(car.Details())\n"
   ]
  },
  {
   "cell_type": "code",
   "execution_count": 11,
   "id": "7463a296",
   "metadata": {},
   "outputs": [
    {
     "name": "stdout",
     "output_type": "stream",
     "text": [
      "<__main__.Lexus object at 0x0000026182786430>\n"
     ]
    }
   ],
   "source": [
    "class Lexus(Car):\n",
    "    pass\n",
    "\n",
    "lexus=Lexus('Toyota','2023','Lexus')\n",
    "print(lexus)"
   ]
  },
  {
   "cell_type": "code",
   "execution_count": 12,
   "id": "d76a5eaf",
   "metadata": {},
   "outputs": [
    {
     "name": "stdout",
     "output_type": "stream",
     "text": [
      "['Details', '__class__', '__delattr__', '__dict__', '__dir__', '__doc__', '__eq__', '__format__', '__ge__', '__getattribute__', '__gt__', '__hash__', '__init__', '__init_subclass__', '__le__', '__lt__', '__module__', '__ne__', '__new__', '__reduce__', '__reduce_ex__', '__repr__', '__setattr__', '__sizeof__', '__str__', '__subclasshook__', '__weakref__', 'make', 'model', 'year']\n"
     ]
    }
   ],
   "source": [
    "print(dir(lexus))"
   ]
  },
  {
   "cell_type": "code",
   "execution_count": 13,
   "id": "bd90bfaa",
   "metadata": {},
   "outputs": [
    {
     "name": "stdout",
     "output_type": "stream",
     "text": [
      "Lexus made by Toyota in year 2023\n"
     ]
    }
   ],
   "source": [
    "print(lexus.Details())"
   ]
  },
  {
   "cell_type": "code",
   "execution_count": 14,
   "id": "182a645a",
   "metadata": {},
   "outputs": [
    {
     "ename": "TypeError",
     "evalue": "__init__() missing 3 required positional arguments: 'manufacture', 'makeyear', and 'model'",
     "output_type": "error",
     "traceback": [
      "\u001b[1;31m---------------------------------------------------------------------------\u001b[0m",
      "\u001b[1;31mTypeError\u001b[0m                                 Traceback (most recent call last)",
      "\u001b[1;32m~\\AppData\\Local\\Temp\\ipykernel_7576\\977447395.py\u001b[0m in \u001b[0;36m<module>\u001b[1;34m\u001b[0m\n\u001b[0;32m      4\u001b[0m \u001b[1;33m\u001b[0m\u001b[0m\n\u001b[0;32m      5\u001b[0m \u001b[1;33m\u001b[0m\u001b[0m\n\u001b[1;32m----> 6\u001b[1;33m \u001b[0mlexus\u001b[0m\u001b[1;33m=\u001b[0m\u001b[0mLexus\u001b[0m\u001b[1;33m(\u001b[0m\u001b[1;33m)\u001b[0m\u001b[1;33m\u001b[0m\u001b[1;33m\u001b[0m\u001b[0m\n\u001b[0m\u001b[0;32m      7\u001b[0m \u001b[0mprint\u001b[0m\u001b[1;33m(\u001b[0m\u001b[0mlexus\u001b[0m\u001b[1;33m)\u001b[0m\u001b[1;33m\u001b[0m\u001b[1;33m\u001b[0m\u001b[0m\n",
      "\u001b[1;31mTypeError\u001b[0m: __init__() missing 3 required positional arguments: 'manufacture', 'makeyear', and 'model'"
     ]
    }
   ],
   "source": [
    "class Lexus(Car):\n",
    "    def __init(self, price):\n",
    "        self.price=price\n",
    "        \n",
    "\n",
    "lexus=Lexus()\n",
    "print(lexus)"
   ]
  },
  {
   "cell_type": "code",
   "execution_count": 15,
   "id": "1a211847",
   "metadata": {},
   "outputs": [
    {
     "ename": "TypeError",
     "evalue": "__init__() missing 3 required positional arguments: 'manufacture', 'makeyear', and 'model'",
     "output_type": "error",
     "traceback": [
      "\u001b[1;31m---------------------------------------------------------------------------\u001b[0m",
      "\u001b[1;31mTypeError\u001b[0m                                 Traceback (most recent call last)",
      "\u001b[1;32m~\\AppData\\Local\\Temp\\ipykernel_7576\\2126562817.py\u001b[0m in \u001b[0;36m<module>\u001b[1;34m\u001b[0m\n\u001b[0;32m      4\u001b[0m \u001b[1;33m\u001b[0m\u001b[0m\n\u001b[0;32m      5\u001b[0m \u001b[1;33m\u001b[0m\u001b[0m\n\u001b[1;32m----> 6\u001b[1;33m \u001b[0mlexus\u001b[0m\u001b[1;33m=\u001b[0m\u001b[0mLexus\u001b[0m\u001b[1;33m(\u001b[0m\u001b[1;33m)\u001b[0m\u001b[1;33m\u001b[0m\u001b[1;33m\u001b[0m\u001b[0m\n\u001b[0m\u001b[0;32m      7\u001b[0m \u001b[0mprint\u001b[0m\u001b[1;33m(\u001b[0m\u001b[0mlexus\u001b[0m\u001b[1;33m)\u001b[0m\u001b[1;33m\u001b[0m\u001b[1;33m\u001b[0m\u001b[0m\n",
      "\u001b[1;31mTypeError\u001b[0m: __init__() missing 3 required positional arguments: 'manufacture', 'makeyear', and 'model'"
     ]
    }
   ],
   "source": [
    "class Lexus(Car):\n",
    "    def __init(self,  manufacture, makeyear,model, price):\n",
    "        self.price=price\n",
    "        \n",
    "\n",
    "lexus=Lexus()\n",
    "print(lexus)"
   ]
  },
  {
   "cell_type": "code",
   "execution_count": 16,
   "id": "007cbe71",
   "metadata": {},
   "outputs": [
    {
     "ename": "TypeError",
     "evalue": "__init__() missing 3 required positional arguments: 'manufacture', 'makeyear', and 'model'",
     "output_type": "error",
     "traceback": [
      "\u001b[1;31m---------------------------------------------------------------------------\u001b[0m",
      "\u001b[1;31mTypeError\u001b[0m                                 Traceback (most recent call last)",
      "\u001b[1;32m~\\AppData\\Local\\Temp\\ipykernel_7576\\2723789500.py\u001b[0m in \u001b[0;36m<module>\u001b[1;34m\u001b[0m\n\u001b[0;32m      5\u001b[0m \u001b[1;33m\u001b[0m\u001b[0m\n\u001b[0;32m      6\u001b[0m \u001b[1;33m\u001b[0m\u001b[0m\n\u001b[1;32m----> 7\u001b[1;33m \u001b[0mlexus\u001b[0m\u001b[1;33m=\u001b[0m\u001b[0mLexus\u001b[0m\u001b[1;33m(\u001b[0m\u001b[1;33m)\u001b[0m\u001b[1;33m\u001b[0m\u001b[1;33m\u001b[0m\u001b[0m\n\u001b[0m\u001b[0;32m      8\u001b[0m \u001b[0mprint\u001b[0m\u001b[1;33m(\u001b[0m\u001b[0mlexus\u001b[0m\u001b[1;33m)\u001b[0m\u001b[1;33m\u001b[0m\u001b[1;33m\u001b[0m\u001b[0m\n",
      "\u001b[1;31mTypeError\u001b[0m: __init__() missing 3 required positional arguments: 'manufacture', 'makeyear', and 'model'"
     ]
    }
   ],
   "source": [
    "class Lexus(Car):\n",
    "    def __init(self,  manufacture, makeyear,model, price):\n",
    "        self.price=price\n",
    "        super().__init__(manufacture, makeyear,model)\n",
    "        \n",
    "\n",
    "lexus=Lexus()\n",
    "print(lexus)"
   ]
  },
  {
   "cell_type": "code",
   "execution_count": 18,
   "id": "fb953612",
   "metadata": {},
   "outputs": [
    {
     "ename": "TypeError",
     "evalue": "__init__() missing 2 required positional arguments: 'makeyear' and 'model'",
     "output_type": "error",
     "traceback": [
      "\u001b[1;31m---------------------------------------------------------------------------\u001b[0m",
      "\u001b[1;31mTypeError\u001b[0m                                 Traceback (most recent call last)",
      "\u001b[1;32m~\\AppData\\Local\\Temp\\ipykernel_7576\\622727106.py\u001b[0m in \u001b[0;36m<module>\u001b[1;34m\u001b[0m\n\u001b[0;32m      4\u001b[0m \u001b[1;33m\u001b[0m\u001b[0m\n\u001b[0;32m      5\u001b[0m \u001b[1;33m\u001b[0m\u001b[0m\n\u001b[1;32m----> 6\u001b[1;33m \u001b[0mlexus\u001b[0m\u001b[1;33m=\u001b[0m\u001b[0mLexus\u001b[0m\u001b[1;33m(\u001b[0m\u001b[1;36m650000\u001b[0m\u001b[1;33m)\u001b[0m\u001b[1;33m\u001b[0m\u001b[1;33m\u001b[0m\u001b[0m\n\u001b[0m\u001b[0;32m      7\u001b[0m \u001b[0mprint\u001b[0m\u001b[1;33m(\u001b[0m\u001b[0mlexus\u001b[0m\u001b[1;33m)\u001b[0m\u001b[1;33m\u001b[0m\u001b[1;33m\u001b[0m\u001b[0m\n",
      "\u001b[1;31mTypeError\u001b[0m: __init__() missing 2 required positional arguments: 'makeyear' and 'model'"
     ]
    }
   ],
   "source": [
    "class Lexus(Car):\n",
    "    def __init(self, price):\n",
    "        self.price=price\n",
    "        \n",
    "\n",
    "lexus=Lexus(650000)\n",
    "print(lexus)"
   ]
  },
  {
   "cell_type": "code",
   "execution_count": 20,
   "id": "e8a39535",
   "metadata": {},
   "outputs": [
    {
     "ename": "TypeError",
     "evalue": "can only concatenate str (not \"int\") to str",
     "output_type": "error",
     "traceback": [
      "\u001b[1;31m---------------------------------------------------------------------------\u001b[0m",
      "\u001b[1;31mTypeError\u001b[0m                                 Traceback (most recent call last)",
      "\u001b[1;32m~\\AppData\\Local\\Temp\\ipykernel_7576\\173955736.py\u001b[0m in \u001b[0;36m<module>\u001b[1;34m\u001b[0m\n\u001b[0;32m      5\u001b[0m \u001b[1;33m\u001b[0m\u001b[0m\n\u001b[0;32m      6\u001b[0m \u001b[0mlexus\u001b[0m\u001b[1;33m=\u001b[0m\u001b[0mLexus\u001b[0m\u001b[1;33m(\u001b[0m\u001b[1;36m650000\u001b[0m\u001b[1;33m,\u001b[0m\u001b[1;34m'Toyota'\u001b[0m\u001b[1;33m,\u001b[0m\u001b[1;34m'Lexus'\u001b[0m\u001b[1;33m)\u001b[0m\u001b[1;33m\u001b[0m\u001b[1;33m\u001b[0m\u001b[0m\n\u001b[1;32m----> 7\u001b[1;33m \u001b[0mprint\u001b[0m\u001b[1;33m(\u001b[0m\u001b[0mlexus\u001b[0m\u001b[1;33m.\u001b[0m\u001b[0mDetails\u001b[0m\u001b[1;33m(\u001b[0m\u001b[1;33m)\u001b[0m\u001b[1;33m)\u001b[0m\u001b[1;33m\u001b[0m\u001b[1;33m\u001b[0m\u001b[0m\n\u001b[0m",
      "\u001b[1;32m~\\AppData\\Local\\Temp\\ipykernel_7576\\4107427755.py\u001b[0m in \u001b[0;36mDetails\u001b[1;34m(self)\u001b[0m\n\u001b[0;32m      6\u001b[0m \u001b[1;33m\u001b[0m\u001b[0m\n\u001b[0;32m      7\u001b[0m     \u001b[1;32mdef\u001b[0m \u001b[0mDetails\u001b[0m\u001b[1;33m(\u001b[0m\u001b[0mself\u001b[0m\u001b[1;33m)\u001b[0m\u001b[1;33m:\u001b[0m\u001b[1;33m\u001b[0m\u001b[1;33m\u001b[0m\u001b[0m\n\u001b[1;32m----> 8\u001b[1;33m         \u001b[1;32mreturn\u001b[0m \u001b[0mself\u001b[0m\u001b[1;33m.\u001b[0m\u001b[0mmodel\u001b[0m\u001b[1;33m+\u001b[0m \u001b[1;34m\" made by \"\u001b[0m\u001b[1;33m+\u001b[0m \u001b[0mself\u001b[0m\u001b[1;33m.\u001b[0m\u001b[0mmake\u001b[0m\u001b[1;33m+\u001b[0m\u001b[1;34m\" in year \"\u001b[0m\u001b[1;33m+\u001b[0m\u001b[0mself\u001b[0m\u001b[1;33m.\u001b[0m\u001b[0myear\u001b[0m\u001b[1;33m\u001b[0m\u001b[1;33m\u001b[0m\u001b[0m\n\u001b[0m\u001b[0;32m      9\u001b[0m \u001b[1;33m\u001b[0m\u001b[0m\n\u001b[0;32m     10\u001b[0m \u001b[0mcar\u001b[0m\u001b[1;33m=\u001b[0m\u001b[0mCar\u001b[0m\u001b[1;33m(\u001b[0m\u001b[1;34m'Toyota'\u001b[0m\u001b[1;33m,\u001b[0m\u001b[1;34m'2023'\u001b[0m\u001b[1;33m,\u001b[0m\u001b[1;34m'Lexus'\u001b[0m\u001b[1;33m)\u001b[0m\u001b[1;33m\u001b[0m\u001b[1;33m\u001b[0m\u001b[0m\n",
      "\u001b[1;31mTypeError\u001b[0m: can only concatenate str (not \"int\") to str"
     ]
    }
   ],
   "source": [
    "class Lexus(Car):\n",
    "    def __init(self, price):\n",
    "        self.price=price\n",
    "        \n",
    "\n",
    "lexus=Lexus(650000,'Toyota','Lexus')\n",
    "print(lexus.Details())"
   ]
  },
  {
   "cell_type": "code",
   "execution_count": 22,
   "id": "30891ff1",
   "metadata": {},
   "outputs": [
    {
     "ename": "TypeError",
     "evalue": "can only concatenate str (not \"int\") to str",
     "output_type": "error",
     "traceback": [
      "\u001b[1;31m---------------------------------------------------------------------------\u001b[0m",
      "\u001b[1;31mTypeError\u001b[0m                                 Traceback (most recent call last)",
      "\u001b[1;32m~\\AppData\\Local\\Temp\\ipykernel_7576\\1795796894.py\u001b[0m in \u001b[0;36m<module>\u001b[1;34m\u001b[0m\n\u001b[0;32m      6\u001b[0m \u001b[1;33m\u001b[0m\u001b[0m\n\u001b[0;32m      7\u001b[0m \u001b[0mlexus\u001b[0m\u001b[1;33m=\u001b[0m\u001b[0mLexus\u001b[0m\u001b[1;33m(\u001b[0m\u001b[1;36m650000\u001b[0m\u001b[1;33m,\u001b[0m\u001b[1;34m'Toyota'\u001b[0m\u001b[1;33m,\u001b[0m\u001b[1;36m2023\u001b[0m\u001b[1;33m,\u001b[0m\u001b[1;34m'Lexus'\u001b[0m\u001b[1;33m)\u001b[0m\u001b[1;33m\u001b[0m\u001b[1;33m\u001b[0m\u001b[0m\n\u001b[1;32m----> 8\u001b[1;33m \u001b[0mprint\u001b[0m\u001b[1;33m(\u001b[0m\u001b[0mlexus\u001b[0m\u001b[1;33m.\u001b[0m\u001b[0mDetails\u001b[0m\u001b[1;33m(\u001b[0m\u001b[1;33m)\u001b[0m\u001b[1;33m)\u001b[0m\u001b[1;33m\u001b[0m\u001b[1;33m\u001b[0m\u001b[0m\n\u001b[0m",
      "\u001b[1;32m~\\AppData\\Local\\Temp\\ipykernel_7576\\4107427755.py\u001b[0m in \u001b[0;36mDetails\u001b[1;34m(self)\u001b[0m\n\u001b[0;32m      6\u001b[0m \u001b[1;33m\u001b[0m\u001b[0m\n\u001b[0;32m      7\u001b[0m     \u001b[1;32mdef\u001b[0m \u001b[0mDetails\u001b[0m\u001b[1;33m(\u001b[0m\u001b[0mself\u001b[0m\u001b[1;33m)\u001b[0m\u001b[1;33m:\u001b[0m\u001b[1;33m\u001b[0m\u001b[1;33m\u001b[0m\u001b[0m\n\u001b[1;32m----> 8\u001b[1;33m         \u001b[1;32mreturn\u001b[0m \u001b[0mself\u001b[0m\u001b[1;33m.\u001b[0m\u001b[0mmodel\u001b[0m\u001b[1;33m+\u001b[0m \u001b[1;34m\" made by \"\u001b[0m\u001b[1;33m+\u001b[0m \u001b[0mself\u001b[0m\u001b[1;33m.\u001b[0m\u001b[0mmake\u001b[0m\u001b[1;33m+\u001b[0m\u001b[1;34m\" in year \"\u001b[0m\u001b[1;33m+\u001b[0m\u001b[0mself\u001b[0m\u001b[1;33m.\u001b[0m\u001b[0myear\u001b[0m\u001b[1;33m\u001b[0m\u001b[1;33m\u001b[0m\u001b[0m\n\u001b[0m\u001b[0;32m      9\u001b[0m \u001b[1;33m\u001b[0m\u001b[0m\n\u001b[0;32m     10\u001b[0m \u001b[0mcar\u001b[0m\u001b[1;33m=\u001b[0m\u001b[0mCar\u001b[0m\u001b[1;33m(\u001b[0m\u001b[1;34m'Toyota'\u001b[0m\u001b[1;33m,\u001b[0m\u001b[1;34m'2023'\u001b[0m\u001b[1;33m,\u001b[0m\u001b[1;34m'Lexus'\u001b[0m\u001b[1;33m)\u001b[0m\u001b[1;33m\u001b[0m\u001b[1;33m\u001b[0m\u001b[0m\n",
      "\u001b[1;31mTypeError\u001b[0m: can only concatenate str (not \"int\") to str"
     ]
    }
   ],
   "source": [
    "class Lexus(Car):\n",
    "    def __init__(self, price,manufacture, makeyear,model):\n",
    "        super().__init__(manufacture, makeyear,model)\n",
    "        self.price=price\n",
    "        \n",
    "\n",
    "lexus=Lexus(650000,'Toyota',2023,'Lexus')\n",
    "print(lexus.Details())"
   ]
  },
  {
   "cell_type": "code",
   "execution_count": 32,
   "id": "c0c65297",
   "metadata": {},
   "outputs": [],
   "source": [
    "class Lexus(Car):\n",
    "    def __init__(self, price,manufacture, makeyear,model):\n",
    "        super().__init__(manufacture, makeyear,model)\n",
    "        self.price=price\n",
    "        \n",
    "\n",
    "lexus=Lexus(650000,'Toyota','2023','Lexus')\n",
    "#print(lexus.Details())"
   ]
  },
  {
   "cell_type": "code",
   "execution_count": 33,
   "id": "e71c9719",
   "metadata": {},
   "outputs": [
    {
     "name": "stdout",
     "output_type": "stream",
     "text": [
      "650000\n",
      "Toyota\n",
      "2023\n",
      "Lexus\n",
      "Lexus made by Toyota in year 2023\n"
     ]
    }
   ],
   "source": [
    "print(lexus.price) \n",
    "print(lexus.make) \n",
    "print(lexus.year) \n",
    "print(lexus.model)\n",
    "print(lexus.Details())\n"
   ]
  },
  {
   "cell_type": "markdown",
   "id": "fe6ead16",
   "metadata": {},
   "source": [
    "print(lexus.price)\n",
    "print(lexus.make)\n",
    "print(lexus.year)\n",
    "print(lexus.model)"
   ]
  },
  {
   "cell_type": "code",
   "execution_count": 39,
   "id": "7fbc4a58",
   "metadata": {},
   "outputs": [
    {
     "name": "stdout",
     "output_type": "stream",
     "text": [
      "Lexus made by Toyota in year 2023 for price- 65K\n"
     ]
    }
   ],
   "source": [
    "class Lexus(Car):\n",
    "    def __init__(self, price,manufacture, makeyear,model):\n",
    "        super().__init__(manufacture, makeyear,model)\n",
    "        self.price=price\n",
    "    \n",
    "    def Details(self):\n",
    "        return  self.model+ \" made by \"+ self.make+\" in year \"+self.year + \" for price- \"+self.price\n",
    "    \n",
    "\n",
    "lexus=Lexus('65K','Toyota','2023','Lexus')\n",
    "print(lexus.Details())"
   ]
  },
  {
   "cell_type": "code",
   "execution_count": null,
   "id": "4964c006",
   "metadata": {},
   "outputs": [],
   "source": []
  }
 ],
 "metadata": {
  "kernelspec": {
   "display_name": "Python 3 (ipykernel)",
   "language": "python",
   "name": "python3"
  },
  "language_info": {
   "codemirror_mode": {
    "name": "ipython",
    "version": 3
   },
   "file_extension": ".py",
   "mimetype": "text/x-python",
   "name": "python",
   "nbconvert_exporter": "python",
   "pygments_lexer": "ipython3",
   "version": "3.9.13"
  }
 },
 "nbformat": 4,
 "nbformat_minor": 5
}
